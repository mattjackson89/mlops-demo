{
 "cells": [
  {
   "cell_type": "markdown",
   "id": "377b46f5",
   "metadata": {},
   "source": [
    "# Basic Model Training\n",
    "\n",
    "## Aims\n",
    "* Using the `compound_rings` data and associated images to train a basic model \n",
    "* Perform some error analysis and improve the model \n",
    "* Log the results of the experiments as well as the models output ready for deployment\n",
    "\n",
    "## Notes \n",
    "Please read the markdown throughout to continue the MLOps demo."
   ]
  },
  {
   "cell_type": "code",
   "execution_count": 1,
   "id": "e0602c6b",
   "metadata": {},
   "outputs": [
    {
     "name": "stderr",
     "output_type": "stream",
     "text": [
      "2021-09-19 10:01:36.040597: W tensorflow/stream_executor/platform/default/dso_loader.cc:64] Could not load dynamic library 'libcudart.so.11.0'; dlerror: libcudart.so.11.0: cannot open shared object file: No such file or directory\n",
      "2021-09-19 10:01:36.040646: I tensorflow/stream_executor/cuda/cudart_stub.cc:29] Ignore above cudart dlerror if you do not have a GPU set up on your machine.\n"
     ]
    }
   ],
   "source": [
    "import numpy as np\n",
    "import mlflow\n",
    "import pandas as pd \n",
    "import seaborn as sns\n",
    "\n",
    "from tensorflow import keras\n",
    "from tensorflow.keras import layers\n",
    "from matplotlib import pyplot as plt\n",
    "from sklearn.model_selection import train_test_split\n",
    "from sklearn.metrics import confusion_matrix, classification_report\n",
    "from PIL import Image"
   ]
  },
  {
   "cell_type": "markdown",
   "id": "09620120",
   "metadata": {},
   "source": [
    "## Setup\n",
    "Any parameters are set up here."
   ]
  },
  {
   "cell_type": "code",
   "execution_count": 2,
   "id": "5e370c99",
   "metadata": {},
   "outputs": [],
   "source": [
    "model_version = \"v1\"\n",
    "image_size = (300, 300)"
   ]
  },
  {
   "cell_type": "code",
   "execution_count": 3,
   "id": "14ba7b61",
   "metadata": {},
   "outputs": [],
   "source": [
    "experiment_id = mlflow.create_experiment(\"Predict Rings\")"
   ]
  },
  {
   "cell_type": "code",
   "execution_count": 4,
   "id": "9bbc0f55",
   "metadata": {},
   "outputs": [
    {
     "name": "stderr",
     "output_type": "stream",
     "text": [
      "2021/09/19 10:01:38 WARNING mlflow.tracking.context.git_context: Failed to import Git (the Git executable is probably not on your PATH), so Git SHA is not available. Error: Failed to initialize: Bad git executable.\n",
      "The git executable must be specified in one of the following ways:\n",
      "    - be included in your $PATH\n",
      "    - be set via $GIT_PYTHON_GIT_EXECUTABLE\n",
      "    - explicitly set via git.refresh()\n",
      "\n",
      "All git commands will error until this is rectified.\n",
      "\n",
      "This initial warning can be silenced or aggravated in the future by setting the\n",
      "$GIT_PYTHON_REFRESH environment variable. Use one of the following values:\n",
      "    - quiet|q|silence|s|none|n|0: for no warning or exception\n",
      "    - warn|w|warning|1: for a printed warning\n",
      "    - error|e|raise|r|2: for a raised exception\n",
      "\n",
      "Example:\n",
      "    export GIT_PYTHON_REFRESH=quiet\n",
      "\n"
     ]
    },
    {
     "data": {
      "text/plain": [
       "<ActiveRun: >"
      ]
     },
     "execution_count": 4,
     "metadata": {},
     "output_type": "execute_result"
    }
   ],
   "source": [
    "mlflow.end_run()\n",
    "mlflow.start_run(run_name=\"v1\", experiment_id=experiment_id)"
   ]
  },
  {
   "cell_type": "code",
   "execution_count": 5,
   "id": "5491f15e",
   "metadata": {},
   "outputs": [],
   "source": [
    "mlflow.log_param(\"version\", model_version)\n",
    "mlflow.log_param(\"image_size\", image_size)"
   ]
  },
  {
   "cell_type": "markdown",
   "id": "1a92b058",
   "metadata": {},
   "source": [
    "## Load Data\n",
    "Load the csv and build the training data set. "
   ]
  },
  {
   "cell_type": "code",
   "execution_count": 6,
   "id": "b07269a4",
   "metadata": {},
   "outputs": [
    {
     "data": {
      "text/html": [
       "<div>\n",
       "<style scoped>\n",
       "    .dataframe tbody tr th:only-of-type {\n",
       "        vertical-align: middle;\n",
       "    }\n",
       "\n",
       "    .dataframe tbody tr th {\n",
       "        vertical-align: top;\n",
       "    }\n",
       "\n",
       "    .dataframe thead th {\n",
       "        text-align: right;\n",
       "    }\n",
       "</style>\n",
       "<table border=\"1\" class=\"dataframe\">\n",
       "  <thead>\n",
       "    <tr style=\"text-align: right;\">\n",
       "      <th></th>\n",
       "      <th>compound_id</th>\n",
       "      <th>num_rings</th>\n",
       "      <th>image</th>\n",
       "    </tr>\n",
       "  </thead>\n",
       "  <tbody>\n",
       "    <tr>\n",
       "      <th>0</th>\n",
       "      <td>1117973</td>\n",
       "      <td>5.0</td>\n",
       "      <td>images/1117973.png</td>\n",
       "    </tr>\n",
       "    <tr>\n",
       "      <th>1</th>\n",
       "      <td>694811</td>\n",
       "      <td>4.0</td>\n",
       "      <td>images/694811.png</td>\n",
       "    </tr>\n",
       "    <tr>\n",
       "      <th>2</th>\n",
       "      <td>1282795</td>\n",
       "      <td>4.0</td>\n",
       "      <td>images/1282795.png</td>\n",
       "    </tr>\n",
       "    <tr>\n",
       "      <th>3</th>\n",
       "      <td>1424122</td>\n",
       "      <td>5.0</td>\n",
       "      <td>images/1424122.png</td>\n",
       "    </tr>\n",
       "    <tr>\n",
       "      <th>4</th>\n",
       "      <td>1279938</td>\n",
       "      <td>3.0</td>\n",
       "      <td>images/1279938.png</td>\n",
       "    </tr>\n",
       "    <tr>\n",
       "      <th>...</th>\n",
       "      <td>...</td>\n",
       "      <td>...</td>\n",
       "      <td>...</td>\n",
       "    </tr>\n",
       "    <tr>\n",
       "      <th>95</th>\n",
       "      <td>1524804</td>\n",
       "      <td>3.0</td>\n",
       "      <td>images/1524804.png</td>\n",
       "    </tr>\n",
       "    <tr>\n",
       "      <th>96</th>\n",
       "      <td>1524811</td>\n",
       "      <td>3.0</td>\n",
       "      <td>images/1524811.png</td>\n",
       "    </tr>\n",
       "    <tr>\n",
       "      <th>97</th>\n",
       "      <td>1442535</td>\n",
       "      <td>3.0</td>\n",
       "      <td>images/1442535.png</td>\n",
       "    </tr>\n",
       "    <tr>\n",
       "      <th>98</th>\n",
       "      <td>1442562</td>\n",
       "      <td>3.0</td>\n",
       "      <td>images/1442562.png</td>\n",
       "    </tr>\n",
       "    <tr>\n",
       "      <th>99</th>\n",
       "      <td>1442549</td>\n",
       "      <td>3.0</td>\n",
       "      <td>images/1442549.png</td>\n",
       "    </tr>\n",
       "  </tbody>\n",
       "</table>\n",
       "<p>100 rows × 3 columns</p>\n",
       "</div>"
      ],
      "text/plain": [
       "    compound_id  num_rings               image\n",
       "0       1117973        5.0  images/1117973.png\n",
       "1        694811        4.0   images/694811.png\n",
       "2       1282795        4.0  images/1282795.png\n",
       "3       1424122        5.0  images/1424122.png\n",
       "4       1279938        3.0  images/1279938.png\n",
       "..          ...        ...                 ...\n",
       "95      1524804        3.0  images/1524804.png\n",
       "96      1524811        3.0  images/1524811.png\n",
       "97      1442535        3.0  images/1442535.png\n",
       "98      1442562        3.0  images/1442562.png\n",
       "99      1442549        3.0  images/1442549.png\n",
       "\n",
       "[100 rows x 3 columns]"
      ]
     },
     "metadata": {},
     "output_type": "display_data"
    }
   ],
   "source": [
    "compound_df = pd.read_csv(\"data/compound_rings.csv\")\n",
    "display(compound_df)"
   ]
  },
  {
   "cell_type": "code",
   "execution_count": 7,
   "id": "744e236c",
   "metadata": {},
   "outputs": [],
   "source": [
    "compound_image_data = []\n",
    "compound_ring_cats = []\n",
    "compound_ring_labels = []\n",
    "for row in compound_df.iterrows():\n",
    "    compound_image_data.append(np.array(Image.open(\"data/\" + row[1][\"image\"])))\n",
    "    compound_ring_labels.append(int(row[1][\"num_rings\"]))\n",
    "    compound_ring_cats.append(int(row[1][\"num_rings\"]) - 1)\n",
    "\n",
    "compound_image_data = np.array(compound_image_data)\n",
    "compound_ring_cats = np.array(compound_ring_cats)"
   ]
  },
  {
   "cell_type": "markdown",
   "id": "7b1d7cb4",
   "metadata": {},
   "source": [
    "Split the data in to a training set and a validation set which will only be used the validate the final model."
   ]
  },
  {
   "cell_type": "code",
   "execution_count": 8,
   "id": "e100ca32",
   "metadata": {},
   "outputs": [],
   "source": [
    "x_train, x_test, y_train, y_test = train_test_split(compound_image_data, compound_ring_cats, test_size=0.25, random_state=42)"
   ]
  },
  {
   "cell_type": "markdown",
   "id": "cc767744",
   "metadata": {},
   "source": [
    "Visualise the data."
   ]
  },
  {
   "cell_type": "code",
   "execution_count": 9,
   "id": "c4d1a0f8",
   "metadata": {},
   "outputs": [
    {
     "data": {
      "image/png": "[encoded data removed]",
      "text/plain": [
       "<Figure size 720x720 with 9 Axes>"
      ]
     },
     "metadata": {
      "needs_background": "light"
     },
     "output_type": "display_data"
    }
   ],
   "source": [
    "plt.figure(figsize=(10, 10))\n",
    "for i in range(9):\n",
    "    ax = plt.subplot(3, 3, i + 1)\n",
    "    plt.imshow(compound_image_data[i])\n",
    "    plt.title(compound_ring_labels[i])\n",
    "    plt.axis(\"off\")"
   ]
  },
  {
   "cell_type": "markdown",
   "id": "d13441bf",
   "metadata": {},
   "source": [
    "We can also inspect the shape of the data to help build our model."
   ]
  },
  {
   "cell_type": "code",
   "execution_count": 10,
   "id": "5396cd87",
   "metadata": {},
   "outputs": [
    {
     "data": {
      "text/plain": [
       "((75, 300, 300, 3), (75,))"
      ]
     },
     "execution_count": 10,
     "metadata": {},
     "output_type": "execute_result"
    }
   ],
   "source": [
    "x_train.shape, y_train.shape"
   ]
  },
  {
   "cell_type": "code",
   "execution_count": 11,
   "id": "dbc4553d",
   "metadata": {},
   "outputs": [
    {
     "data": {
      "text/plain": [
       "((25, 300, 300, 3), (25,))"
      ]
     },
     "execution_count": 11,
     "metadata": {},
     "output_type": "execute_result"
    }
   ],
   "source": [
    "x_test.shape, y_test.shape"
   ]
  },
  {
   "cell_type": "code",
   "execution_count": 12,
   "id": "5f3931f2",
   "metadata": {},
   "outputs": [],
   "source": [
    "mlflow.log_param(\"training_samples\", y_train.shape[0])\n",
    "mlflow.log_param(\"holdout_samples\", y_test.shape[0])"
   ]
  },
  {
   "cell_type": "markdown",
   "id": "d241ccb1",
   "metadata": {},
   "source": [
    "We have 75 training and 25 test samples, the images are 300 x 300 pixels and have 3 layers.\n",
    "\n",
    "Let's build and train a demo model."
   ]
  },
  {
   "cell_type": "code",
   "execution_count": 13,
   "id": "44929755",
   "metadata": {},
   "outputs": [
    {
     "name": "stderr",
     "output_type": "stream",
     "text": [
      "2021-09-19 10:01:40.719849: W tensorflow/stream_executor/platform/default/dso_loader.cc:64] Could not load dynamic library 'libcuda.so.1'; dlerror: libcuda.so.1: cannot open shared object file: No such file or directory\n",
      "2021-09-19 10:01:40.719895: W tensorflow/stream_executor/cuda/cuda_driver.cc:269] failed call to cuInit: UNKNOWN ERROR (303)\n",
      "2021-09-19 10:01:40.719924: I tensorflow/stream_executor/cuda/cuda_diagnostics.cc:156] kernel driver does not appear to be running on this host (ad7d4e63ac63): /proc/driver/nvidia/version does not exist\n",
      "2021-09-19 10:01:40.720143: I tensorflow/core/platform/cpu_feature_guard.cc:142] This TensorFlow binary is optimized with oneAPI Deep Neural Network Library (oneDNN) to use the following CPU instructions in performance-critical operations:  AVX2 FMA\n",
      "To enable them in other operations, rebuild TensorFlow with the appropriate compiler flags.\n"
     ]
    }
   ],
   "source": [
    "model = keras.Sequential(\n",
    "    [\n",
    "        keras.Input(shape=image_size + (3,)),\n",
    "        # conv layers \n",
    "        layers.Conv2D(32, kernel_size=(3, 3), activation=\"relu\"),\n",
    "        layers.MaxPooling2D(pool_size=(2, 2)),\n",
    "        layers.Conv2D(64, kernel_size=(3, 3), activation=\"relu\"),\n",
    "        layers.MaxPooling2D(pool_size=(2, 2)),\n",
    "        layers.Flatten(),\n",
    "        layers.Dropout(0.5), # Dropout to help reduce overfitting\n",
    "        layers.Dense(5, activation=\"softmax\"), # 5 output classes \n",
    "    ]\n",
    ")"
   ]
  },
  {
   "cell_type": "code",
   "execution_count": 14,
   "id": "24fcd10f",
   "metadata": {},
   "outputs": [],
   "source": [
    "val_split = 0.2\n",
    "batch_size = 12\n",
    "epochs = 15"
   ]
  },
  {
   "cell_type": "code",
   "execution_count": 15,
   "id": "d5fd8c3b",
   "metadata": {},
   "outputs": [],
   "source": [
    "mlflow.log_param(\"val_split\", val_split)\n",
    "mlflow.log_param(\"batch_size\", batch_size)\n",
    "mlflow.log_param(\"epochs\", epochs)"
   ]
  },
  {
   "cell_type": "code",
   "execution_count": 16,
   "id": "136c9a58",
   "metadata": {},
   "outputs": [
    {
     "name": "stderr",
     "output_type": "stream",
     "text": [
      "2021-09-19 10:01:41.003967: I tensorflow/compiler/mlir/mlir_graph_optimization_pass.cc:185] None of the MLIR Optimization Passes are enabled (registered 2)\n"
     ]
    },
    {
     "name": "stdout",
     "output_type": "stream",
     "text": [
      "Epoch 1/15\n",
      "5/5 [==============================] - 4s 694ms/step - loss: 3465.1567 - accuracy: 0.3000 - val_loss: 3746.8506 - val_accuracy: 0.2667\n",
      "Epoch 2/15\n",
      "5/5 [==============================] - 3s 623ms/step - loss: 1327.8340 - accuracy: 0.2333 - val_loss: 262.0274 - val_accuracy: 0.4667\n",
      "Epoch 3/15\n",
      "5/5 [==============================] - 3s 618ms/step - loss: 227.6399 - accuracy: 0.2333 - val_loss: 42.1116 - val_accuracy: 0.4667\n",
      "Epoch 4/15\n",
      "5/5 [==============================] - 3s 649ms/step - loss: 33.7335 - accuracy: 0.4333 - val_loss: 1.4836 - val_accuracy: 0.1333\n",
      "Epoch 5/15\n",
      "5/5 [==============================] - 3s 636ms/step - loss: 1.3882 - accuracy: 0.5667 - val_loss: 1.6268 - val_accuracy: 0.0667\n",
      "Epoch 6/15\n",
      "5/5 [==============================] - 3s 647ms/step - loss: 1.4011 - accuracy: 0.4000 - val_loss: 1.4965 - val_accuracy: 0.2667\n",
      "Epoch 7/15\n",
      "5/5 [==============================] - 3s 596ms/step - loss: 0.5870 - accuracy: 0.8500 - val_loss: 1.0250 - val_accuracy: 0.6000\n",
      "Epoch 8/15\n",
      "5/5 [==============================] - 3s 615ms/step - loss: 0.5548 - accuracy: 0.9500 - val_loss: 1.2263 - val_accuracy: 0.6000\n",
      "Epoch 9/15\n",
      "5/5 [==============================] - 3s 595ms/step - loss: 0.4535 - accuracy: 0.8833 - val_loss: 1.4960 - val_accuracy: 0.5333\n",
      "Epoch 10/15\n",
      "5/5 [==============================] - 3s 636ms/step - loss: 0.2795 - accuracy: 1.0000 - val_loss: 1.3919 - val_accuracy: 0.5333\n",
      "Epoch 11/15\n",
      "5/5 [==============================] - 3s 580ms/step - loss: 0.1299 - accuracy: 0.9667 - val_loss: 4.1843 - val_accuracy: 0.4000\n",
      "Epoch 12/15\n",
      "5/5 [==============================] - 3s 623ms/step - loss: 0.1979 - accuracy: 0.9333 - val_loss: 1.8379 - val_accuracy: 0.4667\n",
      "Epoch 13/15\n",
      "5/5 [==============================] - 3s 595ms/step - loss: 0.0805 - accuracy: 0.9500 - val_loss: 1.4802 - val_accuracy: 0.5333\n",
      "Epoch 14/15\n",
      "5/5 [==============================] - 3s 597ms/step - loss: 0.0773 - accuracy: 0.9833 - val_loss: 1.6581 - val_accuracy: 0.5333\n",
      "Epoch 15/15\n",
      "5/5 [==============================] - 3s 716ms/step - loss: 0.0581 - accuracy: 0.9667 - val_loss: 1.4179 - val_accuracy: 0.5333\n"
     ]
    },
    {
     "data": {
      "text/plain": [
       "<keras.callbacks.History at 0x7f9c786202e0>"
      ]
     },
     "execution_count": 16,
     "metadata": {},
     "output_type": "execute_result"
    }
   ],
   "source": [
    "model.compile(loss=\"categorical_crossentropy\", optimizer=\"adam\", metrics=[\"accuracy\"])\n",
    "model.fit(x_train, keras.utils.to_categorical(y_train, num_classes=5), batch_size=batch_size, epochs=epochs, validation_split=0.2)"
   ]
  },
  {
   "cell_type": "markdown",
   "id": "bbba4b9d",
   "metadata": {},
   "source": [
    "Additional callbacks could be used to track more suitable metrics for analysis. For this MLOps example, let's keep it basic (it's just a demo!). We can make some plots with the data we have collected and track in MLFlow."
   ]
  },
  {
   "cell_type": "code",
   "execution_count": 17,
   "id": "36e1a81f",
   "metadata": {},
   "outputs": [],
   "source": [
    "training_df = pd.DataFrame(model.history.history)"
   ]
  },
  {
   "cell_type": "code",
   "execution_count": 18,
   "id": "dd7376cc",
   "metadata": {},
   "outputs": [],
   "source": [
    "for row in training_df.iterrows():\n",
    "    mlflow.log_metric(\"loss\", row[1][\"loss\"])\n",
    "    mlflow.log_metric(\"val_loss\", row[1][\"val_loss\"])\n",
    "    mlflow.log_metric(\"accuracy\", row[1][\"accuracy\"])\n",
    "    mlflow.log_metric(\"val_accuracy\", row[1][\"val_accuracy\"])"
   ]
  },
  {
   "cell_type": "code",
   "execution_count": 19,
   "id": "7e551dab",
   "metadata": {},
   "outputs": [
    {
     "data": {
      "image/png": "[encoded data removed]",
      "text/plain": [
       "<Figure size 720x360 with 2 Axes>"
      ]
     },
     "metadata": {
      "needs_background": "light"
     },
     "output_type": "display_data"
    }
   ],
   "source": [
    "fig, (ax1, ax2) = plt.subplots(nrows=2, sharex=True, figsize=(10, 5))\n",
    "\n",
    "sns.lineplot(data=training_df, x=training_df.index, y=\"loss\", label=\"train\", ax=ax1)\n",
    "sns.lineplot(data=training_df, x=training_df.index, y=\"val_loss\", label=\"test\", ax=ax1)\n",
    "\n",
    "sns.lineplot(data=training_df, x=training_df.index, y=\"accuracy\", ax=ax2)\n",
    "sns.lineplot(data=training_df, x=training_df.index, y=\"val_accuracy\", ax=ax2)\n",
    "\n",
    "plt.suptitle(\"V1 - Training Curves\", fontsize=16)\n",
    "plt.tight_layout()\n",
    "plt.show()"
   ]
  },
  {
   "cell_type": "markdown",
   "id": "bdfafebe",
   "metadata": {},
   "source": [
    "Let's make some predictions from the holdout set and see the \"real world\" performance of our model."
   ]
  },
  {
   "cell_type": "code",
   "execution_count": 20,
   "id": "53504897",
   "metadata": {},
   "outputs": [],
   "source": [
    "y_pred = model.predict(x_test)\n",
    "y_pred_train = model.predict(x_train)"
   ]
  },
  {
   "cell_type": "markdown",
   "id": "8bfc2399",
   "metadata": {},
   "source": [
    "A confusion matrix is useful for classification tasks."
   ]
  },
  {
   "cell_type": "code",
   "execution_count": 21,
   "id": "958f4b5a",
   "metadata": {},
   "outputs": [
    {
     "data": {
      "image/png": "[encoded data removed]",
      "text/plain": [
       "<Figure size 360x360 with 1 Axes>"
      ]
     },
     "metadata": {
      "needs_background": "light"
     },
     "output_type": "display_data"
    }
   ],
   "source": [
    "matrix = confusion_matrix(y_test, y_pred.argmax(axis=1))\n",
    "plt.figure(figsize=(5, 5))\n",
    "sns.heatmap(matrix, annot=True, cbar=False)\n",
    "plt.xlabel(\"Predicted Class\")\n",
    "plt.ylabel(\"True Class\")\n",
    "plt.title(\"Confusion Matrix: Compound Rings - Holdout Set\")\n",
    "plt.show()"
   ]
  },
  {
   "cell_type": "code",
   "execution_count": 22,
   "id": "875cea18",
   "metadata": {},
   "outputs": [
    {
     "name": "stdout",
     "output_type": "stream",
     "text": [
      "              precision    recall  f1-score   support\n",
      "\n",
      "           0       0.00      0.00      0.00         1\n",
      "           1       0.00      0.00      0.00         1\n",
      "           2       0.00      0.00      0.00         5\n",
      "           3       1.00      0.53      0.70        15\n",
      "           4       0.23      1.00      0.38         3\n",
      "\n",
      "    accuracy                           0.44        25\n",
      "   macro avg       0.25      0.31      0.21        25\n",
      "weighted avg       0.63      0.44      0.46        25\n",
      "\n"
     ]
    },
    {
     "name": "stderr",
     "output_type": "stream",
     "text": [
      "/opt/conda/lib/python3.9/site-packages/sklearn/metrics/_classification.py:1248: UndefinedMetricWarning: Precision and F-score are ill-defined and being set to 0.0 in labels with no predicted samples. Use `zero_division` parameter to control this behavior.\n",
      "  _warn_prf(average, modifier, msg_start, len(result))\n",
      "/opt/conda/lib/python3.9/site-packages/sklearn/metrics/_classification.py:1248: UndefinedMetricWarning: Precision and F-score are ill-defined and being set to 0.0 in labels with no predicted samples. Use `zero_division` parameter to control this behavior.\n",
      "  _warn_prf(average, modifier, msg_start, len(result))\n",
      "/opt/conda/lib/python3.9/site-packages/sklearn/metrics/_classification.py:1248: UndefinedMetricWarning: Precision and F-score are ill-defined and being set to 0.0 in labels with no predicted samples. Use `zero_division` parameter to control this behavior.\n",
      "  _warn_prf(average, modifier, msg_start, len(result))\n"
     ]
    }
   ],
   "source": [
    "clf_rep = classification_report(y_test, y_pred.argmax(axis=1))\n",
    "print(clf_rep)"
   ]
  },
  {
   "cell_type": "markdown",
   "id": "156f8995",
   "metadata": {},
   "source": [
    "On the validation set the model seems to be overfit to predicting class 3 (4 rings). As this is a toy example I won't continue with much analysis. Some initial observations;\n",
    "\n",
    "* (below) we can see the training data output, there is 0 support for class 0 and only 9 for class 1 - more data is required (this would likely have been called out in the scoping phase), never the less we have a benchmark which is better than random\n",
    "* Class 3 has the highest support and like in the validation set performs well\n",
    "* In the real world, as well as iterating on data we could look to iterate and improve the model."
   ]
  },
  {
   "cell_type": "code",
   "execution_count": 23,
   "id": "5b300b04",
   "metadata": {},
   "outputs": [
    {
     "name": "stdout",
     "output_type": "stream",
     "text": [
      "              precision    recall  f1-score   support\n",
      "\n",
      "           1       0.90      1.00      0.95         9\n",
      "           2       0.91      0.91      0.91        22\n",
      "           3       0.93      0.96      0.94        26\n",
      "           4       0.88      0.78      0.82        18\n",
      "\n",
      "    accuracy                           0.91        75\n",
      "   macro avg       0.90      0.91      0.91        75\n",
      "weighted avg       0.91      0.91      0.91        75\n",
      "\n"
     ]
    }
   ],
   "source": [
    "print(classification_report(y_train, model.predict(x_train).argmax(axis=1)))"
   ]
  },
  {
   "cell_type": "markdown",
   "id": "b50d2a49",
   "metadata": {},
   "source": [
    "This model isn't great, it is overfit to the train set, but for now let's try and deploy it. We can come back later and improve the model."
   ]
  },
  {
   "cell_type": "code",
   "execution_count": 24,
   "id": "6f41e02f",
   "metadata": {},
   "outputs": [
    {
     "name": "stderr",
     "output_type": "stream",
     "text": [
      "2021-09-19 10:02:34.950525: W tensorflow/python/util/util.cc:348] Sets are not currently considered sequences, but this may change in the future, so consider avoiding using them.\n"
     ]
    },
    {
     "name": "stdout",
     "output_type": "stream",
     "text": [
      "INFO:tensorflow:Assets written to: /home/jovyan/data-science/models/v1/data/model/assets\n"
     ]
    }
   ],
   "source": [
    "mlflow.keras.save_model(model, f\"models/{model_version}\")"
   ]
  },
  {
   "cell_type": "code",
   "execution_count": 25,
   "id": "16d8fa09",
   "metadata": {},
   "outputs": [],
   "source": [
    "mlflow.end_run()"
   ]
  },
  {
   "cell_type": "markdown",
   "id": "d8230f3d",
   "metadata": {},
   "source": [
    "## V2 \n",
    "For the purpose of this demo, let's make a second version of the model to simulate some iteration and demostrate the operational side of model promotion.\n",
    "\n",
    "A typical thing to do in CV tasks in order to increase data is to augment it with transformations of the existing data. Let's take our training set and augment it by making some transformations."
   ]
  },
  {
   "cell_type": "code",
   "execution_count": 26,
   "id": "bb427250",
   "metadata": {},
   "outputs": [],
   "source": [
    "mlflow.start_run(run_name=\"v2\", experiment_id=experiment_id)\n",
    "model_version = \"v2\""
   ]
  },
  {
   "cell_type": "code",
   "execution_count": 27,
   "id": "459f295e",
   "metadata": {},
   "outputs": [],
   "source": [
    "mlflow.log_param(\"version\", model_version)\n",
    "mlflow.log_param(\"image_size\", image_size)"
   ]
  },
  {
   "cell_type": "code",
   "execution_count": 28,
   "id": "b5384c84",
   "metadata": {},
   "outputs": [],
   "source": [
    "aug_compound_image_data = []\n",
    "aug_compound_ring_cats = []\n",
    "aug_compound_ring_labels = []\n",
    "\n",
    "for row in compound_df.iterrows():\n",
    "    \n",
    "    # Save the original \n",
    "    original_image = Image.open(\"data/\" + row[1][\"image\"])\n",
    "    aug_compound_image_data.append(np.array(original_image))\n",
    "    aug_compound_ring_labels.append(int(row[1][\"num_rings\"]))\n",
    "    aug_compound_ring_cats.append(int(row[1][\"num_rings\"]) - 1)\n",
    "\n",
    "    rotations = [90, 180, 270]\n",
    "    for r in rotations:\n",
    "        rotated_image = original_image.rotate(r)\n",
    "        aug_compound_image_data.append(np.array(rotated_image))\n",
    "        aug_compound_ring_labels.append(int(row[1][\"num_rings\"]))\n",
    "        aug_compound_ring_cats.append(int(row[1][\"num_rings\"]) - 1)\n",
    "        \n",
    "aug_compound_image_data = np.array(aug_compound_image_data)\n",
    "aug_compound_ring_cats = np.array(aug_compound_ring_cats)"
   ]
  },
  {
   "cell_type": "code",
   "execution_count": 29,
   "id": "34e358b6",
   "metadata": {},
   "outputs": [],
   "source": [
    "x_aug_train, x_aug_test, y_aug_train, y_aug_test = train_test_split(aug_compound_image_data, aug_compound_ring_cats, test_size=0.25, random_state=42)"
   ]
  },
  {
   "cell_type": "code",
   "execution_count": 30,
   "id": "f6a34ae0",
   "metadata": {},
   "outputs": [
    {
     "data": {
      "text/plain": [
       "((300, 300, 300, 3), (300,))"
      ]
     },
     "execution_count": 30,
     "metadata": {},
     "output_type": "execute_result"
    }
   ],
   "source": [
    "x_aug_train.shape, y_aug_train.shape"
   ]
  },
  {
   "cell_type": "code",
   "execution_count": 31,
   "id": "044781d0",
   "metadata": {},
   "outputs": [
    {
     "data": {
      "text/plain": [
       "((100, 300, 300, 3), (100,))"
      ]
     },
     "execution_count": 31,
     "metadata": {},
     "output_type": "execute_result"
    }
   ],
   "source": [
    "x_aug_test.shape, y_aug_test.shape"
   ]
  },
  {
   "cell_type": "code",
   "execution_count": 32,
   "id": "4d921a12",
   "metadata": {},
   "outputs": [],
   "source": [
    "mlflow.log_param(\"training_samples\", y_aug_train.shape[0])\n",
    "mlflow.log_param(\"holdout_samples\", y_aug_test.shape[0])\n",
    "mlflow.log_param(\"val_split\", val_split)\n",
    "mlflow.log_param(\"batch_size\", batch_size)\n",
    "mlflow.log_param(\"epochs\", epochs)"
   ]
  },
  {
   "cell_type": "markdown",
   "id": "cee03d84",
   "metadata": {},
   "source": [
    "We now have a bigger data set. This doesn't solve the class distribution problems - in reality the error analysis we performed would have indicated we needed to improve our dataset in certain areas. As this is only a toy example we won't worry too much. Let's train the v2 model."
   ]
  },
  {
   "cell_type": "code",
   "execution_count": 33,
   "id": "73476b2a",
   "metadata": {},
   "outputs": [
    {
     "name": "stdout",
     "output_type": "stream",
     "text": [
      "Epoch 1/15\n",
      "20/20 [==============================] - 12s 603ms/step - loss: 1.8188 - accuracy: 0.3750 - val_loss: 1.5915 - val_accuracy: 0.4500\n",
      "Epoch 2/15\n",
      "20/20 [==============================] - 12s 598ms/step - loss: 1.5269 - accuracy: 0.4042 - val_loss: 1.5738 - val_accuracy: 0.4333\n",
      "Epoch 3/15\n",
      "20/20 [==============================] - 12s 623ms/step - loss: 1.4267 - accuracy: 0.5000 - val_loss: 1.3211 - val_accuracy: 0.4000\n",
      "Epoch 4/15\n",
      "20/20 [==============================] - 14s 677ms/step - loss: 1.3188 - accuracy: 0.5042 - val_loss: 1.5721 - val_accuracy: 0.4500\n",
      "Epoch 5/15\n",
      "20/20 [==============================] - 14s 697ms/step - loss: 1.4892 - accuracy: 0.4625 - val_loss: 1.5626 - val_accuracy: 0.4500\n",
      "Epoch 6/15\n",
      "20/20 [==============================] - 13s 639ms/step - loss: 1.5108 - accuracy: 0.4583 - val_loss: 1.5540 - val_accuracy: 0.4500\n",
      "Epoch 7/15\n",
      "20/20 [==============================] - 12s 608ms/step - loss: 1.5035 - accuracy: 0.4583 - val_loss: 1.5465 - val_accuracy: 0.4500\n",
      "Epoch 8/15\n",
      "20/20 [==============================] - 13s 637ms/step - loss: 1.4785 - accuracy: 0.4458 - val_loss: 1.5325 - val_accuracy: 0.4667\n",
      "Epoch 9/15\n",
      "20/20 [==============================] - 12s 621ms/step - loss: 1.4544 - accuracy: 0.4708 - val_loss: 1.5295 - val_accuracy: 0.4500\n",
      "Epoch 10/15\n",
      "20/20 [==============================] - 13s 628ms/step - loss: 1.4547 - accuracy: 0.4667 - val_loss: 1.5197 - val_accuracy: 0.4667\n",
      "Epoch 11/15\n",
      "20/20 [==============================] - 13s 660ms/step - loss: 1.3983 - accuracy: 0.4958 - val_loss: 1.5152 - val_accuracy: 0.4500\n",
      "Epoch 12/15\n",
      "20/20 [==============================] - 12s 597ms/step - loss: 1.4384 - accuracy: 0.4667 - val_loss: 1.5086 - val_accuracy: 0.4500\n",
      "Epoch 13/15\n",
      "20/20 [==============================] - 12s 591ms/step - loss: 1.3743 - accuracy: 0.4917 - val_loss: 1.3009 - val_accuracy: 0.4667\n",
      "Epoch 14/15\n",
      "20/20 [==============================] - 12s 615ms/step - loss: 1.3675 - accuracy: 0.5292 - val_loss: 1.4968 - val_accuracy: 0.4500\n",
      "Epoch 15/15\n",
      "20/20 [==============================] - 14s 711ms/step - loss: 1.4190 - accuracy: 0.4667 - val_loss: 1.4938 - val_accuracy: 0.4500\n"
     ]
    },
    {
     "data": {
      "text/plain": [
       "<keras.callbacks.History at 0x7f9c601e1e50>"
      ]
     },
     "execution_count": 33,
     "metadata": {},
     "output_type": "execute_result"
    }
   ],
   "source": [
    "model.fit(x_aug_train, keras.utils.to_categorical(y_aug_train, num_classes=5), batch_size=batch_size, epochs=epochs, validation_split=0.2)"
   ]
  },
  {
   "cell_type": "code",
   "execution_count": 34,
   "id": "9fe37226",
   "metadata": {},
   "outputs": [],
   "source": [
    "training_df = pd.DataFrame(model.history.history)"
   ]
  },
  {
   "cell_type": "code",
   "execution_count": 35,
   "id": "ca243786",
   "metadata": {},
   "outputs": [],
   "source": [
    "for row in training_df.iterrows():\n",
    "    mlflow.log_metric(\"loss\", row[1][\"loss\"])\n",
    "    mlflow.log_metric(\"val_loss\", row[1][\"val_loss\"])\n",
    "    mlflow.log_metric(\"accuracy\", row[1][\"accuracy\"])\n",
    "    mlflow.log_metric(\"val_accuracy\", row[1][\"val_accuracy\"])"
   ]
  },
  {
   "cell_type": "code",
   "execution_count": 36,
   "id": "6e12a017",
   "metadata": {},
   "outputs": [],
   "source": [
    "y_aug_pred = model.predict(x_aug_test)"
   ]
  },
  {
   "cell_type": "code",
   "execution_count": 37,
   "id": "70cb33d4",
   "metadata": {},
   "outputs": [
    {
     "data": {
      "image/png": "[encoded data removed]",
      "text/plain": [
       "<Figure size 360x360 with 1 Axes>"
      ]
     },
     "metadata": {
      "needs_background": "light"
     },
     "output_type": "display_data"
    }
   ],
   "source": [
    "matrix = confusion_matrix(y_aug_test, y_aug_pred.argmax(axis=1))\n",
    "plt.figure(figsize=(5, 5))\n",
    "sns.heatmap(matrix, annot=True, cbar=False)\n",
    "plt.xlabel(\"Predicted Class\")\n",
    "plt.ylabel(\"True Class\")\n",
    "plt.title(\"Confusion Matrix: Compound Rings - Holdout Set\")\n",
    "plt.show()"
   ]
  },
  {
   "cell_type": "code",
   "execution_count": 38,
   "id": "28ea5b81",
   "metadata": {},
   "outputs": [
    {
     "name": "stdout",
     "output_type": "stream",
     "text": [
      "              precision    recall  f1-score   support\n",
      "\n",
      "           1       0.00      0.00      0.00        15\n",
      "           2       0.50      0.03      0.06        33\n",
      "           3       0.35      1.00      0.52        34\n",
      "           4       0.00      0.00      0.00        18\n",
      "\n",
      "    accuracy                           0.35       100\n",
      "   macro avg       0.21      0.26      0.14       100\n",
      "weighted avg       0.28      0.35      0.19       100\n",
      "\n"
     ]
    },
    {
     "name": "stderr",
     "output_type": "stream",
     "text": [
      "/opt/conda/lib/python3.9/site-packages/sklearn/metrics/_classification.py:1248: UndefinedMetricWarning: Precision and F-score are ill-defined and being set to 0.0 in labels with no predicted samples. Use `zero_division` parameter to control this behavior.\n",
      "  _warn_prf(average, modifier, msg_start, len(result))\n",
      "/opt/conda/lib/python3.9/site-packages/sklearn/metrics/_classification.py:1248: UndefinedMetricWarning: Precision and F-score are ill-defined and being set to 0.0 in labels with no predicted samples. Use `zero_division` parameter to control this behavior.\n",
      "  _warn_prf(average, modifier, msg_start, len(result))\n",
      "/opt/conda/lib/python3.9/site-packages/sklearn/metrics/_classification.py:1248: UndefinedMetricWarning: Precision and F-score are ill-defined and being set to 0.0 in labels with no predicted samples. Use `zero_division` parameter to control this behavior.\n",
      "  _warn_prf(average, modifier, msg_start, len(result))\n"
     ]
    }
   ],
   "source": [
    "clf_rep = classification_report(y_aug_test, y_aug_pred.argmax(axis=1))\n",
    "print(clf_rep)"
   ]
  },
  {
   "cell_type": "code",
   "execution_count": 39,
   "id": "04d480f8",
   "metadata": {},
   "outputs": [
    {
     "name": "stdout",
     "output_type": "stream",
     "text": [
      "INFO:tensorflow:Assets written to: /home/jovyan/data-science/models/v2/data/model/assets\n"
     ]
    }
   ],
   "source": [
    "mlflow.keras.save_model(model, f\"models/{model_version}\")"
   ]
  },
  {
   "cell_type": "markdown",
   "id": "78ad08c3",
   "metadata": {},
   "source": [
    "Check out the results on MLFLow http://localhost:5000/\n",
    "\n",
    "We have trained a second model (it is likely terrible!) no further analysis will be undertaken for this demo. The models aren't directly comparable, in the real world we would ensure;\n",
    "* Holdout data is the same\n",
    "* Input data has enough support to train the model \n",
    "* Put some thought into model architecture and hyperparameters \n",
    "* Done some tuning and error analysis \n",
    "* Used MLFlow to compare runs \n",
    "\n",
    "For now let's return to the API and make some predictions."
   ]
  },
  {
   "cell_type": "code",
   "execution_count": 40,
   "id": "9ecb57a2",
   "metadata": {},
   "outputs": [],
   "source": [
    "mlflow.end_run()"
   ]
  },
  {
   "cell_type": "code",
   "execution_count": null,
   "id": "7c136ed9",
   "metadata": {},
   "outputs": [],
   "source": []
  }
 ],
 "metadata": {
  "kernelspec": {
   "display_name": "Python 3 (ipykernel)",
   "language": "python",
   "name": "python3"
  },
  "language_info": {
   "codemirror_mode": {
    "name": "ipython",
    "version": 3
   },
   "file_extension": ".py",
   "mimetype": "text/x-python",
   "name": "python",
   "nbconvert_exporter": "python",
   "pygments_lexer": "ipython3",
   "version": "3.9.6"
  }
 },
 "nbformat": 4,
 "nbformat_minor": 5
}
