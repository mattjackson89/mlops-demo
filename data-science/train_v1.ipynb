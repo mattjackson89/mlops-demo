{
 "cells": [
  {
   "cell_type": "markdown",
   "id": "377b46f5",
   "metadata": {},
   "source": [
    "# Basic Model Training\n",
    "\n",
    "## Aims\n",
    "* Using the `compound_rings` data and associated images to train a basic model \n",
    "* Perform some error analysis and improve the model \n",
    "* Log the results of the experiments as well as the models output ready for deployment\n",
    "\n",
    "## Notes \n",
    "Please read the markdown throughout to continue the MLOps demo."
   ]
  },
  {
   "cell_type": "code",
   "execution_count": 46,
   "id": "e0602c6b",
   "metadata": {},
   "outputs": [],
   "source": [
    "import tensorflow as tf\n",
    "import numpy as np\n",
    "from tensorflow import keras\n",
    "from tensorflow.keras import layers\n",
    "from matplotlib import pyplot as plt\n",
    "from sklearn.model_selection import train_test_split\n",
    "import pandas as pd \n",
    "from sklearn.metrics import confusion_matrix, classification_report\n",
    "import mlflow\n",
    "import seaborn as sns"
   ]
  },
  {
   "cell_type": "markdown",
   "id": "09620120",
   "metadata": {},
   "source": [
    "## Setup\n",
    "Any parameters are set up here."
   ]
  },
  {
   "cell_type": "code",
   "execution_count": 4,
   "id": "5e370c99",
   "metadata": {},
   "outputs": [],
   "source": [
    "model_version = \"v1\"\n",
    "image_size = (300, 300)"
   ]
  },
  {
   "cell_type": "code",
   "execution_count": 13,
   "id": "14ba7b61",
   "metadata": {},
   "outputs": [],
   "source": [
    "experiment_id = mlflow.create_experiment(\"Predict Compound Rings\")"
   ]
  },
  {
   "cell_type": "code",
   "execution_count": 17,
   "id": "9bbc0f55",
   "metadata": {},
   "outputs": [
    {
     "data": {
      "text/plain": [
       "<ActiveRun: >"
      ]
     },
     "execution_count": 17,
     "metadata": {},
     "output_type": "execute_result"
    }
   ],
   "source": [
    "mlflow.end_run()\n",
    "mlflow.start_run(run_name=\"v1\", experiment_id=experiment_id)"
   ]
  },
  {
   "cell_type": "code",
   "execution_count": 18,
   "id": "5491f15e",
   "metadata": {},
   "outputs": [],
   "source": [
    "mlflow.log_param(\"version\", model_version)\n",
    "mlflow.log_param(\"image_size\", image_size)"
   ]
  },
  {
   "cell_type": "markdown",
   "id": "1a92b058",
   "metadata": {},
   "source": [
    "## Load Data\n",
    "Load the csv and build the training data set. "
   ]
  },
  {
   "cell_type": "code",
   "execution_count": 21,
   "id": "b07269a4",
   "metadata": {},
   "outputs": [
    {
     "data": {
      "text/html": [
       "<div>\n",
       "<style scoped>\n",
       "    .dataframe tbody tr th:only-of-type {\n",
       "        vertical-align: middle;\n",
       "    }\n",
       "\n",
       "    .dataframe tbody tr th {\n",
       "        vertical-align: top;\n",
       "    }\n",
       "\n",
       "    .dataframe thead th {\n",
       "        text-align: right;\n",
       "    }\n",
       "</style>\n",
       "<table border=\"1\" class=\"dataframe\">\n",
       "  <thead>\n",
       "    <tr style=\"text-align: right;\">\n",
       "      <th></th>\n",
       "      <th>compound_id</th>\n",
       "      <th>num_rings</th>\n",
       "      <th>image</th>\n",
       "    </tr>\n",
       "  </thead>\n",
       "  <tbody>\n",
       "    <tr>\n",
       "      <th>0</th>\n",
       "      <td>1117973</td>\n",
       "      <td>5.0</td>\n",
       "      <td>images/1117973.png</td>\n",
       "    </tr>\n",
       "    <tr>\n",
       "      <th>1</th>\n",
       "      <td>694811</td>\n",
       "      <td>4.0</td>\n",
       "      <td>images/694811.png</td>\n",
       "    </tr>\n",
       "    <tr>\n",
       "      <th>2</th>\n",
       "      <td>1282795</td>\n",
       "      <td>4.0</td>\n",
       "      <td>images/1282795.png</td>\n",
       "    </tr>\n",
       "    <tr>\n",
       "      <th>3</th>\n",
       "      <td>1424122</td>\n",
       "      <td>5.0</td>\n",
       "      <td>images/1424122.png</td>\n",
       "    </tr>\n",
       "    <tr>\n",
       "      <th>4</th>\n",
       "      <td>1279938</td>\n",
       "      <td>3.0</td>\n",
       "      <td>images/1279938.png</td>\n",
       "    </tr>\n",
       "    <tr>\n",
       "      <th>...</th>\n",
       "      <td>...</td>\n",
       "      <td>...</td>\n",
       "      <td>...</td>\n",
       "    </tr>\n",
       "    <tr>\n",
       "      <th>95</th>\n",
       "      <td>1524804</td>\n",
       "      <td>3.0</td>\n",
       "      <td>images/1524804.png</td>\n",
       "    </tr>\n",
       "    <tr>\n",
       "      <th>96</th>\n",
       "      <td>1524811</td>\n",
       "      <td>3.0</td>\n",
       "      <td>images/1524811.png</td>\n",
       "    </tr>\n",
       "    <tr>\n",
       "      <th>97</th>\n",
       "      <td>1442535</td>\n",
       "      <td>3.0</td>\n",
       "      <td>images/1442535.png</td>\n",
       "    </tr>\n",
       "    <tr>\n",
       "      <th>98</th>\n",
       "      <td>1442562</td>\n",
       "      <td>3.0</td>\n",
       "      <td>images/1442562.png</td>\n",
       "    </tr>\n",
       "    <tr>\n",
       "      <th>99</th>\n",
       "      <td>1442549</td>\n",
       "      <td>3.0</td>\n",
       "      <td>images/1442549.png</td>\n",
       "    </tr>\n",
       "  </tbody>\n",
       "</table>\n",
       "<p>100 rows × 3 columns</p>\n",
       "</div>"
      ],
      "text/plain": [
       "    compound_id  num_rings               image\n",
       "0       1117973        5.0  images/1117973.png\n",
       "1        694811        4.0   images/694811.png\n",
       "2       1282795        4.0  images/1282795.png\n",
       "3       1424122        5.0  images/1424122.png\n",
       "4       1279938        3.0  images/1279938.png\n",
       "..          ...        ...                 ...\n",
       "95      1524804        3.0  images/1524804.png\n",
       "96      1524811        3.0  images/1524811.png\n",
       "97      1442535        3.0  images/1442535.png\n",
       "98      1442562        3.0  images/1442562.png\n",
       "99      1442549        3.0  images/1442549.png\n",
       "\n",
       "[100 rows x 3 columns]"
      ]
     },
     "metadata": {},
     "output_type": "display_data"
    }
   ],
   "source": [
    "compound_df = pd.read_csv(\"data/compound_rings.csv\")\n",
    "display(compound_df)"
   ]
  },
  {
   "cell_type": "code",
   "execution_count": 22,
   "id": "744e236c",
   "metadata": {},
   "outputs": [],
   "source": [
    "compound_image_data = []\n",
    "compound_ring_cats = []\n",
    "compound_ring_labels = []\n",
    "for row in compound_df.iterrows():\n",
    "    compound_image_data.append(plt.imread(row[1][\"image\"]))\n",
    "    compound_ring_labels.append(int(row[1][\"num_rings\"]))\n",
    "    compound_ring_cats.append(int(row[1][\"num_rings\"]) - 1)\n",
    "\n",
    "compound_image_data = np.array(compound_image_data)\n",
    "compound_ring_cats = np.array(compound_ring_cats)"
   ]
  },
  {
   "cell_type": "markdown",
   "id": "7b1d7cb4",
   "metadata": {},
   "source": [
    "Split the data in to a training set and a validation set which will only be used the validate the final model."
   ]
  },
  {
   "cell_type": "code",
   "execution_count": 23,
   "id": "e100ca32",
   "metadata": {},
   "outputs": [],
   "source": [
    "x_train, x_test, y_train, y_test = train_test_split(compound_image_data, compound_ring_cats, test_size=0.25, random_state=42)"
   ]
  },
  {
   "cell_type": "markdown",
   "id": "cc767744",
   "metadata": {},
   "source": [
    "Visualise the data."
   ]
  },
  {
   "cell_type": "code",
   "execution_count": 24,
   "id": "c4d1a0f8",
   "metadata": {},
   "outputs": [
    {
     "data": {
      "image/png": "[encoded data removed]",
      "text/plain": [
       "<Figure size 720x720 with 9 Axes>"
      ]
     },
     "metadata": {
      "needs_background": "light"
     },
     "output_type": "display_data"
    }
   ],
   "source": [
    "plt.figure(figsize=(10, 10))\n",
    "for i in range(9):\n",
    "    ax = plt.subplot(3, 3, i + 1)\n",
    "    plt.imshow(compound_image_data[i])\n",
    "    plt.title(compound_ring_labels[i])\n",
    "    plt.axis(\"off\")"
   ]
  },
  {
   "cell_type": "markdown",
   "id": "d13441bf",
   "metadata": {},
   "source": [
    "We can also inspect the shape of the data to help build our model."
   ]
  },
  {
   "cell_type": "code",
   "execution_count": 25,
   "id": "5396cd87",
   "metadata": {},
   "outputs": [
    {
     "data": {
      "text/plain": [
       "((75, 300, 300, 3), (75,))"
      ]
     },
     "execution_count": 25,
     "metadata": {},
     "output_type": "execute_result"
    }
   ],
   "source": [
    "x_train.shape, y_train.shape"
   ]
  },
  {
   "cell_type": "code",
   "execution_count": 26,
   "id": "dbc4553d",
   "metadata": {},
   "outputs": [
    {
     "data": {
      "text/plain": [
       "((25, 300, 300, 3), (25,))"
      ]
     },
     "execution_count": 26,
     "metadata": {},
     "output_type": "execute_result"
    }
   ],
   "source": [
    "x_test.shape, y_test.shape"
   ]
  },
  {
   "cell_type": "code",
   "execution_count": 27,
   "id": "5f3931f2",
   "metadata": {},
   "outputs": [],
   "source": [
    "mlflow.log_param(\"training_samples\", y_train.shape[0])\n",
    "mlflow.log_param(\"holdout_samples\", y_test.shape[0])"
   ]
  },
  {
   "cell_type": "markdown",
   "id": "d241ccb1",
   "metadata": {},
   "source": [
    "We have 75 training and 25 test samples, the images are 300 x 300 pixels and have 3 layers.\n",
    "\n",
    "Let's build and train a demo model."
   ]
  },
  {
   "cell_type": "code",
   "execution_count": 28,
   "id": "44929755",
   "metadata": {},
   "outputs": [
    {
     "name": "stderr",
     "output_type": "stream",
     "text": [
      "2021-09-18 17:56:55.519744: W tensorflow/stream_executor/platform/default/dso_loader.cc:64] Could not load dynamic library 'libcuda.so.1'; dlerror: libcuda.so.1: cannot open shared object file: No such file or directory\n",
      "2021-09-18 17:56:55.519792: W tensorflow/stream_executor/cuda/cuda_driver.cc:269] failed call to cuInit: UNKNOWN ERROR (303)\n",
      "2021-09-18 17:56:55.519817: I tensorflow/stream_executor/cuda/cuda_diagnostics.cc:156] kernel driver does not appear to be running on this host (2e6e3127db37): /proc/driver/nvidia/version does not exist\n",
      "2021-09-18 17:56:55.520019: I tensorflow/core/platform/cpu_feature_guard.cc:142] This TensorFlow binary is optimized with oneAPI Deep Neural Network Library (oneDNN) to use the following CPU instructions in performance-critical operations:  AVX2 FMA\n",
      "To enable them in other operations, rebuild TensorFlow with the appropriate compiler flags.\n"
     ]
    }
   ],
   "source": [
    "model = keras.Sequential(\n",
    "    [\n",
    "        keras.Input(shape=image_size + (3,)),\n",
    "        # conv layers \n",
    "        layers.Conv2D(32, kernel_size=(3, 3), activation=\"relu\"),\n",
    "        layers.MaxPooling2D(pool_size=(2, 2)),\n",
    "        layers.Conv2D(64, kernel_size=(3, 3), activation=\"relu\"),\n",
    "        layers.MaxPooling2D(pool_size=(2, 2)),\n",
    "        layers.Flatten(),\n",
    "        layers.Dropout(0.5), # Dropout to help reduce overfitting\n",
    "        layers.Dense(5, activation=\"softmax\"), # 5 output classes \n",
    "    ]\n",
    ")"
   ]
  },
  {
   "cell_type": "code",
   "execution_count": 29,
   "id": "24fcd10f",
   "metadata": {},
   "outputs": [],
   "source": [
    "val_split = 0.2\n",
    "batch_size = 12\n",
    "epochs = 15"
   ]
  },
  {
   "cell_type": "code",
   "execution_count": 30,
   "id": "d5fd8c3b",
   "metadata": {},
   "outputs": [],
   "source": [
    "mlflow.log_param(\"val_split\", val_split)\n",
    "mlflow.log_param(\"batch_size\", batch_size)\n",
    "mlflow.log_param(\"epochs\", epochs)"
   ]
  },
  {
   "cell_type": "code",
   "execution_count": 31,
   "id": "136c9a58",
   "metadata": {},
   "outputs": [
    {
     "name": "stderr",
     "output_type": "stream",
     "text": [
      "2021-09-18 17:57:42.116871: I tensorflow/compiler/mlir/mlir_graph_optimization_pass.cc:185] None of the MLIR Optimization Passes are enabled (registered 2)\n"
     ]
    },
    {
     "name": "stdout",
     "output_type": "stream",
     "text": [
      "Epoch 1/15\n",
      "5/5 [==============================] - 3s 564ms/step - loss: 13.4229 - accuracy: 0.2833 - val_loss: 6.0734 - val_accuracy: 0.0667\n",
      "Epoch 2/15\n",
      "5/5 [==============================] - 3s 535ms/step - loss: 2.4644 - accuracy: 0.2667 - val_loss: 1.7072 - val_accuracy: 0.2000\n",
      "Epoch 3/15\n",
      "5/5 [==============================] - 3s 649ms/step - loss: 1.4927 - accuracy: 0.3333 - val_loss: 1.3860 - val_accuracy: 0.2000\n",
      "Epoch 4/15\n",
      "5/5 [==============================] - 3s 497ms/step - loss: 1.3426 - accuracy: 0.4000 - val_loss: 1.3671 - val_accuracy: 0.4000\n",
      "Epoch 5/15\n",
      "5/5 [==============================] - 2s 472ms/step - loss: 1.1847 - accuracy: 0.6000 - val_loss: 1.6107 - val_accuracy: 0.2667\n",
      "Epoch 6/15\n",
      "5/5 [==============================] - 3s 517ms/step - loss: 1.0824 - accuracy: 0.5333 - val_loss: 1.3494 - val_accuracy: 0.2667\n",
      "Epoch 7/15\n",
      "5/5 [==============================] - 2s 503ms/step - loss: 0.8505 - accuracy: 0.7167 - val_loss: 1.4101 - val_accuracy: 0.5333\n",
      "Epoch 8/15\n",
      "5/5 [==============================] - 3s 533ms/step - loss: 0.5751 - accuracy: 0.8500 - val_loss: 1.5270 - val_accuracy: 0.4667\n",
      "Epoch 9/15\n",
      "5/5 [==============================] - 2s 480ms/step - loss: 0.3395 - accuracy: 0.9167 - val_loss: 1.2953 - val_accuracy: 0.3333\n",
      "Epoch 10/15\n",
      "5/5 [==============================] - 2s 458ms/step - loss: 0.1699 - accuracy: 0.9500 - val_loss: 1.5482 - val_accuracy: 0.4000\n",
      "Epoch 11/15\n",
      "5/5 [==============================] - 3s 648ms/step - loss: 0.1492 - accuracy: 0.9500 - val_loss: 1.7236 - val_accuracy: 0.4000\n",
      "Epoch 12/15\n",
      "5/5 [==============================] - 3s 549ms/step - loss: 0.0755 - accuracy: 0.9667 - val_loss: 1.7856 - val_accuracy: 0.3333\n",
      "Epoch 13/15\n",
      "5/5 [==============================] - 4s 837ms/step - loss: 0.0596 - accuracy: 0.9833 - val_loss: 2.2792 - val_accuracy: 0.4000\n",
      "Epoch 14/15\n",
      "5/5 [==============================] - 3s 499ms/step - loss: 0.0421 - accuracy: 1.0000 - val_loss: 2.5092 - val_accuracy: 0.4000\n",
      "Epoch 15/15\n",
      "5/5 [==============================] - 3s 750ms/step - loss: 0.0253 - accuracy: 1.0000 - val_loss: 2.5608 - val_accuracy: 0.4000\n"
     ]
    },
    {
     "data": {
      "text/plain": [
       "<keras.callbacks.History at 0x7f30d63260d0>"
      ]
     },
     "execution_count": 31,
     "metadata": {},
     "output_type": "execute_result"
    }
   ],
   "source": [
    "model.compile(loss=\"categorical_crossentropy\", optimizer=\"adam\", metrics=[\"accuracy\"])\n",
    "model.fit(x_train, keras.utils.to_categorical(y_train, num_classes=5), batch_size=batch_size, epochs=epochs, validation_split=0.2)"
   ]
  },
  {
   "cell_type": "markdown",
   "id": "bbba4b9d",
   "metadata": {},
   "source": [
    "Additional callbacks could be used to track more suitable metrics for analysis. For this MLOps example, let's keep it basic (it's just a demo!). We can make some plots with the data we have collected and track in MLFlow."
   ]
  },
  {
   "cell_type": "code",
   "execution_count": 33,
   "id": "36e1a81f",
   "metadata": {},
   "outputs": [],
   "source": [
    "training_df = pd.DataFrame(model.history.history)"
   ]
  },
  {
   "cell_type": "code",
   "execution_count": 44,
   "id": "dd7376cc",
   "metadata": {},
   "outputs": [],
   "source": [
    "for row in training_df.iterrows():\n",
    "    mlflow.log_metric(\"loss\", row[1][\"loss\"])\n",
    "    mlflow.log_metric(\"val_loss\", row[1][\"val_loss\"])\n",
    "    mlflow.log_metric(\"accuracy\", row[1][\"accuracy\"])\n",
    "    mlflow.log_metric(\"val_accuracy\", row[1][\"val_accuracy\"])"
   ]
  },
  {
   "cell_type": "code",
   "execution_count": 38,
   "id": "5a08f277",
   "metadata": {},
   "outputs": [],
   "source": [
    "for loss in training_df[\"loss\"]:\n",
    "    mlflow.log_metric(\"loss\", loss)"
   ]
  },
  {
   "cell_type": "code",
   "execution_count": 149,
   "id": "7e551dab",
   "metadata": {},
   "outputs": [
    {
     "data": {
      "image/png": "[encoded data removed]",
      "text/plain": [
       "<Figure size 720x360 with 2 Axes>"
      ]
     },
     "metadata": {
      "needs_background": "light"
     },
     "output_type": "display_data"
    }
   ],
   "source": [
    "fig, (ax1, ax2) = plt.subplots(nrows=2, sharex=True, figsize=(10, 5))\n",
    "\n",
    "sns.lineplot(data=training_df, x=training_df.index, y=\"loss\", label=\"train\", ax=ax1)\n",
    "sns.lineplot(data=training_df, x=training_df.index, y=\"val_loss\", label=\"test\", ax=ax1)\n",
    "\n",
    "sns.lineplot(data=training_df, x=training_df.index, y=\"accuracy\", ax=ax2)\n",
    "sns.lineplot(data=training_df, x=training_df.index, y=\"val_accuracy\", ax=ax2)\n",
    "\n",
    "plt.suptitle(\"V1 - Training Curves\", fontsize=16)\n",
    "plt.tight_layout()\n",
    "plt.show()"
   ]
  },
  {
   "cell_type": "markdown",
   "id": "bdfafebe",
   "metadata": {},
   "source": [
    "Let's make some predictions from the holdout set and see the \"real world\" performance of our model."
   ]
  },
  {
   "cell_type": "code",
   "execution_count": 48,
   "id": "53504897",
   "metadata": {},
   "outputs": [],
   "source": [
    "y_pred = model.predict(x_test)\n",
    "y_pred_train = model.predict(x_train)"
   ]
  },
  {
   "cell_type": "markdown",
   "id": "8bfc2399",
   "metadata": {},
   "source": [
    "A confusion matrix is useful for classification tasks."
   ]
  },
  {
   "cell_type": "code",
   "execution_count": 54,
   "id": "958f4b5a",
   "metadata": {},
   "outputs": [
    {
     "data": {
      "image/png": "[encoded data removed]",
      "text/plain": [
       "<Figure size 360x360 with 1 Axes>"
      ]
     },
     "metadata": {
      "needs_background": "light"
     },
     "output_type": "display_data"
    }
   ],
   "source": [
    "matrix = confusion_matrix(y_test, y_pred.argmax(axis=1))\n",
    "plt.figure(figsize=(5, 5))\n",
    "sns.heatmap(matrix, annot=True, cbar=False)\n",
    "plt.xlabel(\"Predicted Class\")\n",
    "plt.ylabel(\"True Class\")\n",
    "plt.title(\"Confusion Matrix: Compound Rings - Holdout Set\")\n",
    "plt.show()"
   ]
  },
  {
   "cell_type": "code",
   "execution_count": 103,
   "id": "875cea18",
   "metadata": {},
   "outputs": [
    {
     "name": "stdout",
     "output_type": "stream",
     "text": [
      "              precision    recall  f1-score   support\n",
      "\n",
      "           0       0.00      0.00      0.00         1\n",
      "           1       0.00      0.00      0.00         1\n",
      "           2       0.38      0.60      0.46         5\n",
      "           3       0.83      0.67      0.74        15\n",
      "           4       0.50      0.67      0.57         3\n",
      "\n",
      "    accuracy                           0.60        25\n",
      "   macro avg       0.34      0.39      0.35        25\n",
      "weighted avg       0.64      0.60      0.61        25\n",
      "\n"
     ]
    },
    {
     "name": "stderr",
     "output_type": "stream",
     "text": [
      "/opt/conda/lib/python3.9/site-packages/sklearn/metrics/_classification.py:1248: UndefinedMetricWarning: Precision and F-score are ill-defined and being set to 0.0 in labels with no predicted samples. Use `zero_division` parameter to control this behavior.\n",
      "  _warn_prf(average, modifier, msg_start, len(result))\n",
      "/opt/conda/lib/python3.9/site-packages/sklearn/metrics/_classification.py:1248: UndefinedMetricWarning: Precision and F-score are ill-defined and being set to 0.0 in labels with no predicted samples. Use `zero_division` parameter to control this behavior.\n",
      "  _warn_prf(average, modifier, msg_start, len(result))\n",
      "/opt/conda/lib/python3.9/site-packages/sklearn/metrics/_classification.py:1248: UndefinedMetricWarning: Precision and F-score are ill-defined and being set to 0.0 in labels with no predicted samples. Use `zero_division` parameter to control this behavior.\n",
      "  _warn_prf(average, modifier, msg_start, len(result))\n"
     ]
    }
   ],
   "source": [
    "clf_rep = classification_report(y_test, y_pred.argmax(axis=1))\n",
    "print(clf_rep)"
   ]
  },
  {
   "cell_type": "markdown",
   "id": "156f8995",
   "metadata": {},
   "source": [
    "On the validation set the model seems to be overfit to predicting class 3 (4 rings). As this is a toy example I won't continue with much analysis. Some initial observations;\n",
    "\n",
    "* (below) we can see the training data output, there is 0 support for class 0 and only 9 for class 1 - more data is required (this would likely have been called out in the scoping phase), never the less we have a benchmark which is better than random\n",
    "* Class 3 has the highest support and like in the validation set performs well\n",
    "* In the real world, as well as iterating on data we could look to iterate and improve the model."
   ]
  },
  {
   "cell_type": "code",
   "execution_count": 69,
   "id": "5b300b04",
   "metadata": {},
   "outputs": [
    {
     "name": "stdout",
     "output_type": "stream",
     "text": [
      "              precision    recall  f1-score   support\n",
      "\n",
      "           1       1.00      1.00      1.00         9\n",
      "           2       0.88      1.00      0.94        22\n",
      "           3       0.86      0.96      0.91        26\n",
      "           4       0.92      0.61      0.73        18\n",
      "\n",
      "    accuracy                           0.89        75\n",
      "   macro avg       0.91      0.89      0.89        75\n",
      "weighted avg       0.90      0.89      0.89        75\n",
      "\n"
     ]
    }
   ],
   "source": [
    "print(classification_report(y_train, model.predict(x_train).argmax(axis=1)))"
   ]
  },
  {
   "cell_type": "markdown",
   "id": "b50d2a49",
   "metadata": {},
   "source": [
    "This model isn't great, it is overfit to the train set, but for now let's try and deploy it. We can come back later and improve the model."
   ]
  },
  {
   "cell_type": "code",
   "execution_count": 57,
   "id": "6f41e02f",
   "metadata": {},
   "outputs": [
    {
     "name": "stderr",
     "output_type": "stream",
     "text": [
      "2021-09-18 18:08:15.955549: W tensorflow/python/util/util.cc:348] Sets are not currently considered sequences, but this may change in the future, so consider avoiding using them.\n"
     ]
    },
    {
     "name": "stdout",
     "output_type": "stream",
     "text": [
      "INFO:tensorflow:Assets written to: /home/jovyan/data-science/models/v1/data/model/assets\n"
     ]
    }
   ],
   "source": [
    "mlflow.keras.save_model(model, f\"models/{model_version}\")"
   ]
  },
  {
   "cell_type": "code",
   "execution_count": 155,
   "id": "16d8fa09",
   "metadata": {},
   "outputs": [],
   "source": [
    "mlflow.end_run()"
   ]
  }
 ],
 "metadata": {
  "kernelspec": {
   "display_name": "Python 3 (ipykernel)",
   "language": "python",
   "name": "python3"
  },
  "language_info": {
   "codemirror_mode": {
    "name": "ipython",
    "version": 3
   },
   "file_extension": ".py",
   "mimetype": "text/x-python",
   "name": "python",
   "nbconvert_exporter": "python",
   "pygments_lexer": "ipython3",
   "version": "3.9.6"
  }
 },
 "nbformat": 4,
 "nbformat_minor": 5
}
