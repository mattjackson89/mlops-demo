{
 "cells": [
  {
   "cell_type": "markdown",
   "id": "377b46f5",
   "metadata": {},
   "source": [
    "# Basic Model Training\n",
    "\n",
    "## Aims\n",
    "* Using the `compound_rings` data and associated images to train a basic model "
   ]
  },
  {
   "cell_type": "code",
   "execution_count": 21,
   "id": "e0602c6b",
   "metadata": {},
   "outputs": [],
   "source": [
    "import tensorflow as tf\n",
    "import numpy as np\n",
    "from tensorflow import keras\n",
    "from tensorflow.keras import layers\n",
    "from matplotlib import pyplot as plt\n",
    "from sklearn.model_selection import train_test_split"
   ]
  },
  {
   "cell_type": "markdown",
   "id": "09620120",
   "metadata": {},
   "source": [
    "## Setup\n",
    "Any parameters are set up here."
   ]
  },
  {
   "cell_type": "code",
   "execution_count": 8,
   "id": "5e370c99",
   "metadata": {},
   "outputs": [],
   "source": [
    "model_version = \"v1\"\n",
    "image_size = (300, 300)\n",
    "batch_size = 32\n",
    "val_split = 0.2"
   ]
  },
  {
   "cell_type": "markdown",
   "id": "1a92b058",
   "metadata": {},
   "source": [
    "## Load Data\n",
    "Using Keras pre-processing to load our data into a train/test data set and a validation data set. Here we can set the seeds so later splits are consistent."
   ]
  },
  {
   "cell_type": "code",
   "execution_count": 9,
   "id": "b07269a4",
   "metadata": {},
   "outputs": [
    {
     "data": {
      "text/html": [
       "<div>\n",
       "<style scoped>\n",
       "    .dataframe tbody tr th:only-of-type {\n",
       "        vertical-align: middle;\n",
       "    }\n",
       "\n",
       "    .dataframe tbody tr th {\n",
       "        vertical-align: top;\n",
       "    }\n",
       "\n",
       "    .dataframe thead th {\n",
       "        text-align: right;\n",
       "    }\n",
       "</style>\n",
       "<table border=\"1\" class=\"dataframe\">\n",
       "  <thead>\n",
       "    <tr style=\"text-align: right;\">\n",
       "      <th></th>\n",
       "      <th>compound_id</th>\n",
       "      <th>num_rings</th>\n",
       "      <th>image</th>\n",
       "    </tr>\n",
       "  </thead>\n",
       "  <tbody>\n",
       "    <tr>\n",
       "      <th>0</th>\n",
       "      <td>1117973</td>\n",
       "      <td>5.0</td>\n",
       "      <td>images/1117973.png</td>\n",
       "    </tr>\n",
       "    <tr>\n",
       "      <th>1</th>\n",
       "      <td>694811</td>\n",
       "      <td>4.0</td>\n",
       "      <td>images/694811.png</td>\n",
       "    </tr>\n",
       "    <tr>\n",
       "      <th>2</th>\n",
       "      <td>1282795</td>\n",
       "      <td>4.0</td>\n",
       "      <td>images/1282795.png</td>\n",
       "    </tr>\n",
       "    <tr>\n",
       "      <th>3</th>\n",
       "      <td>1424122</td>\n",
       "      <td>5.0</td>\n",
       "      <td>images/1424122.png</td>\n",
       "    </tr>\n",
       "    <tr>\n",
       "      <th>4</th>\n",
       "      <td>1279938</td>\n",
       "      <td>3.0</td>\n",
       "      <td>images/1279938.png</td>\n",
       "    </tr>\n",
       "    <tr>\n",
       "      <th>...</th>\n",
       "      <td>...</td>\n",
       "      <td>...</td>\n",
       "      <td>...</td>\n",
       "    </tr>\n",
       "    <tr>\n",
       "      <th>95</th>\n",
       "      <td>1524804</td>\n",
       "      <td>3.0</td>\n",
       "      <td>images/1524804.png</td>\n",
       "    </tr>\n",
       "    <tr>\n",
       "      <th>96</th>\n",
       "      <td>1524811</td>\n",
       "      <td>3.0</td>\n",
       "      <td>images/1524811.png</td>\n",
       "    </tr>\n",
       "    <tr>\n",
       "      <th>97</th>\n",
       "      <td>1442535</td>\n",
       "      <td>3.0</td>\n",
       "      <td>images/1442535.png</td>\n",
       "    </tr>\n",
       "    <tr>\n",
       "      <th>98</th>\n",
       "      <td>1442562</td>\n",
       "      <td>3.0</td>\n",
       "      <td>images/1442562.png</td>\n",
       "    </tr>\n",
       "    <tr>\n",
       "      <th>99</th>\n",
       "      <td>1442549</td>\n",
       "      <td>3.0</td>\n",
       "      <td>images/1442549.png</td>\n",
       "    </tr>\n",
       "  </tbody>\n",
       "</table>\n",
       "<p>100 rows × 3 columns</p>\n",
       "</div>"
      ],
      "text/plain": [
       "    compound_id  num_rings               image\n",
       "0       1117973        5.0  images/1117973.png\n",
       "1        694811        4.0   images/694811.png\n",
       "2       1282795        4.0  images/1282795.png\n",
       "3       1424122        5.0  images/1424122.png\n",
       "4       1279938        3.0  images/1279938.png\n",
       "..          ...        ...                 ...\n",
       "95      1524804        3.0  images/1524804.png\n",
       "96      1524811        3.0  images/1524811.png\n",
       "97      1442535        3.0  images/1442535.png\n",
       "98      1442562        3.0  images/1442562.png\n",
       "99      1442549        3.0  images/1442549.png\n",
       "\n",
       "[100 rows x 3 columns]"
      ]
     },
     "metadata": {},
     "output_type": "display_data"
    }
   ],
   "source": [
    "import pandas as pd \n",
    "compound_df = pd.read_csv(\"data/compound_rings.csv\")\n",
    "display(compound_df)"
   ]
  },
  {
   "cell_type": "code",
   "execution_count": 17,
   "id": "744e236c",
   "metadata": {},
   "outputs": [],
   "source": [
    "compound_image_data = []\n",
    "compound_ring_cats = []\n",
    "for row in compound_df.iterrows():\n",
    "    compound_image_data.append(plt.imread(row[1][\"image\"]))\n",
    "    compound_ring_cats.append(int(row[1][\"num_rings\"]))\n",
    "\n",
    "compound_image_data = np.array(compound_image_data)\n",
    "compound_ring_cats = np.array(compound_ring_cats)"
   ]
  },
  {
   "cell_type": "code",
   "execution_count": 18,
   "id": "ca225dba",
   "metadata": {},
   "outputs": [
    {
     "data": {
      "text/plain": [
       "((100,), (100, 300, 300, 3))"
      ]
     },
     "execution_count": 18,
     "metadata": {},
     "output_type": "execute_result"
    }
   ],
   "source": [
    "compound_ring_cats.shape, compound_image_data.shape"
   ]
  },
  {
   "cell_type": "code",
   "execution_count": 22,
   "id": "e100ca32",
   "metadata": {},
   "outputs": [],
   "source": [
    "X_train, X_test, y_train, y_test = train_test_split(compound_image_data, compound_ring_cats, test_size=0.25, random_state=42)"
   ]
  },
  {
   "cell_type": "code",
   "execution_count": 23,
   "id": "c4d1a0f8",
   "metadata": {},
   "outputs": [
    {
     "data": {
      "image/png": "[encoded data removed]",
      "text/plain": [
       "<Figure size 432x288 with 1 Axes>"
      ]
     },
     "metadata": {
      "needs_background": "light"
     },
     "output_type": "display_data"
    }
   ],
   "source": [
    "plt.imshow(compound_image_data[0])\n",
    "plt.title(compound_ring_cats[0])\n",
    "plt.show()"
   ]
  },
  {
   "cell_type": "code",
   "execution_count": 24,
   "id": "44929755",
   "metadata": {},
   "outputs": [],
   "source": [
    "model = keras.Sequential(\n",
    "    [\n",
    "        keras.Input(shape=image_size + (3,)),\n",
    "        layers.Conv2D(32, kernel_size=(3, 3), activation=\"relu\"),\n",
    "        layers.MaxPooling2D(pool_size=(2, 2)),\n",
    "        layers.Conv2D(64, kernel_size=(3, 3), activation=\"relu\"),\n",
    "        layers.MaxPooling2D(pool_size=(2, 2)),\n",
    "        layers.Flatten(),\n",
    "        layers.Dropout(0.5),\n",
    "        layers.Dense(6, activation=\"softmax\"),\n",
    "    ]\n",
    ")"
   ]
  },
  {
   "cell_type": "code",
   "execution_count": 25,
   "id": "136c9a58",
   "metadata": {},
   "outputs": [
    {
     "name": "stderr",
     "output_type": "stream",
     "text": [
      "2021-09-18 09:13:51.845017: I tensorflow/compiler/mlir/mlir_graph_optimization_pass.cc:185] None of the MLIR Optimization Passes are enabled (registered 2)\n"
     ]
    },
    {
     "name": "stdout",
     "output_type": "stream",
     "text": [
      "Epoch 1/15\n",
      "5/5 [==============================] - 3s 488ms/step - loss: 15.1504 - accuracy: 0.1167 - val_loss: 2.5438 - val_accuracy: 0.2667\n",
      "Epoch 2/15\n",
      "5/5 [==============================] - 2s 486ms/step - loss: 2.6265 - accuracy: 0.3333 - val_loss: 2.4918 - val_accuracy: 0.2000\n",
      "Epoch 3/15\n",
      "5/5 [==============================] - 2s 479ms/step - loss: 1.2205 - accuracy: 0.4833 - val_loss: 1.1975 - val_accuracy: 0.4667\n",
      "Epoch 4/15\n",
      "5/5 [==============================] - 2s 488ms/step - loss: 0.9113 - accuracy: 0.6500 - val_loss: 1.4554 - val_accuracy: 0.4000\n",
      "Epoch 5/15\n",
      "5/5 [==============================] - 2s 460ms/step - loss: 0.6196 - accuracy: 0.8167 - val_loss: 1.2343 - val_accuracy: 0.4667\n",
      "Epoch 6/15\n",
      "5/5 [==============================] - 2s 466ms/step - loss: 0.3337 - accuracy: 0.9500 - val_loss: 1.2919 - val_accuracy: 0.4000\n",
      "Epoch 7/15\n",
      "5/5 [==============================] - 2s 481ms/step - loss: 0.2004 - accuracy: 0.9667 - val_loss: 2.0321 - val_accuracy: 0.5333\n",
      "Epoch 8/15\n",
      "5/5 [==============================] - 2s 475ms/step - loss: 0.1065 - accuracy: 0.9500 - val_loss: 1.8225 - val_accuracy: 0.4000\n",
      "Epoch 9/15\n",
      "5/5 [==============================] - 2s 451ms/step - loss: 0.0558 - accuracy: 1.0000 - val_loss: 2.6187 - val_accuracy: 0.4667\n",
      "Epoch 10/15\n",
      "5/5 [==============================] - 2s 468ms/step - loss: 0.0299 - accuracy: 1.0000 - val_loss: 2.9066 - val_accuracy: 0.4000\n",
      "Epoch 11/15\n",
      "5/5 [==============================] - 2s 471ms/step - loss: 0.0171 - accuracy: 1.0000 - val_loss: 2.6772 - val_accuracy: 0.4000\n",
      "Epoch 12/15\n",
      "5/5 [==============================] - 2s 474ms/step - loss: 0.0204 - accuracy: 0.9833 - val_loss: 2.6981 - val_accuracy: 0.4000\n",
      "Epoch 13/15\n",
      "5/5 [==============================] - 2s 483ms/step - loss: 0.0073 - accuracy: 1.0000 - val_loss: 3.0701 - val_accuracy: 0.4000\n",
      "Epoch 14/15\n",
      "5/5 [==============================] - 2s 452ms/step - loss: 0.0062 - accuracy: 1.0000 - val_loss: 3.2266 - val_accuracy: 0.4000\n",
      "Epoch 15/15\n",
      "5/5 [==============================] - 2s 473ms/step - loss: 0.0070 - accuracy: 1.0000 - val_loss: 3.1594 - val_accuracy: 0.4000\n"
     ]
    },
    {
     "data": {
      "text/plain": [
       "<keras.callbacks.History at 0x7efde94615e0>"
      ]
     },
     "execution_count": 25,
     "metadata": {},
     "output_type": "execute_result"
    }
   ],
   "source": [
    "batch_size = 12\n",
    "epochs = 15\n",
    "\n",
    "model.compile(loss=\"categorical_crossentropy\", optimizer=\"adam\", metrics=[\"accuracy\"])\n",
    "model.fit(X_train, keras.utils.to_categorical(y_train), batch_size=batch_size, epochs=epochs, validation_split=0.2)"
   ]
  },
  {
   "cell_type": "code",
   "execution_count": 26,
   "id": "53504897",
   "metadata": {},
   "outputs": [
    {
     "name": "stdout",
     "output_type": "stream",
     "text": [
      "Test loss: 2.2026610374450684\n",
      "Test accuracy: 0.5600000023841858\n"
     ]
    }
   ],
   "source": [
    "score = model.evaluate(X_test, keras.utils.to_categorical(y_test), verbose=0)\n",
    "print(\"Test loss:\", score[0])\n",
    "print(\"Test accuracy:\", score[1])"
   ]
  },
  {
   "cell_type": "markdown",
   "id": "b50d2a49",
   "metadata": {},
   "source": [
    "## To Do \n",
    "* Make some simple metrics \n",
    "* Plot training curve \n",
    "* Use mlflow to record metrics and save model \n",
    "\n",
    "This model isn't great, it is overfit to the train set, but for now let's try and deploy it. We can come back later and improve the model."
   ]
  },
  {
   "cell_type": "code",
   "execution_count": 14,
   "id": "16d8fa09",
   "metadata": {},
   "outputs": [],
   "source": [
    "import mlflow"
   ]
  },
  {
   "cell_type": "code",
   "execution_count": 28,
   "id": "60180c81",
   "metadata": {},
   "outputs": [
    {
     "name": "stderr",
     "output_type": "stream",
     "text": [
      "2021-09-18 09:15:55.819694: W tensorflow/python/util/util.cc:348] Sets are not currently considered sequences, but this may change in the future, so consider avoiding using them.\n"
     ]
    },
    {
     "name": "stdout",
     "output_type": "stream",
     "text": [
      "INFO:tensorflow:Assets written to: /home/jovyan/data-science/models/latest/data/model/assets\n"
     ]
    }
   ],
   "source": [
    "with mlflow.start_run():\n",
    "    mlflow.log_param(\"version\", model_version)\n",
    "    mlflow.log_metric(\"test_acc\", score[1])\n",
    "    mlflow.keras.save_model(model, \"models/latest\")"
   ]
  },
  {
   "cell_type": "code",
   "execution_count": 29,
   "id": "083cf8e5",
   "metadata": {},
   "outputs": [],
   "source": [
    "test = mlflow.keras.load_model(\"models/latest\")"
   ]
  },
  {
   "cell_type": "code",
   "execution_count": 31,
   "id": "5aa2ae2a",
   "metadata": {},
   "outputs": [
    {
     "data": {
      "text/plain": [
       "array([[8.28274949e-12, 9.10880139e-12, 2.79447995e-03, 9.02322233e-01,\n",
       "        7.11292913e-03, 8.77703577e-02],\n",
       "       [2.15902536e-15, 2.72734868e-15, 4.00977029e-07, 2.83370668e-04,\n",
       "        9.99641299e-01, 7.49596875e-05],\n",
       "       [1.56292419e-14, 1.73600859e-14, 9.99769270e-01, 2.22741175e-04,\n",
       "        5.88245121e-06, 2.16998455e-06],\n",
       "       [6.58878541e-17, 8.28366260e-17, 2.47759200e-08, 1.22182144e-06,\n",
       "        1.27025116e-02, 9.87296224e-01],\n",
       "       [9.09691091e-14, 1.12219865e-13, 1.58341834e-06, 9.96127069e-01,\n",
       "        3.08427913e-03, 7.87128927e-04],\n",
       "       [1.02764885e-09, 1.16872412e-09, 2.78680697e-02, 8.07860076e-01,\n",
       "        1.34459659e-01, 2.98121721e-02],\n",
       "       [3.88917143e-13, 5.04815265e-13, 1.19442791e-06, 6.20969338e-03,\n",
       "        2.88213015e-01, 7.05576062e-01],\n",
       "       [7.86112508e-14, 9.15837095e-14, 9.27243906e-04, 1.95012353e-02,\n",
       "        9.79364336e-01, 2.07184756e-04],\n",
       "       [6.28106178e-10, 7.60910723e-10, 9.45471320e-03, 9.68633235e-01,\n",
       "        1.28936339e-02, 9.01846960e-03],\n",
       "       [1.76837633e-17, 1.99564006e-17, 2.05357679e-07, 1.91860323e-07,\n",
       "        1.27151077e-06, 9.99998331e-01],\n",
       "       [6.11997814e-11, 7.00036140e-11, 1.51458969e-02, 3.48564416e-01,\n",
       "        5.38205028e-01, 9.80846882e-02],\n",
       "       [5.03844308e-13, 6.14128540e-13, 9.67091637e-06, 1.33658946e-02,\n",
       "        6.74065948e-02, 9.19217825e-01],\n",
       "       [1.18628328e-11, 1.36185854e-11, 8.41915724e-04, 8.71665835e-01,\n",
       "        1.18542597e-01, 8.94962531e-03],\n",
       "       [9.35676533e-16, 1.15860173e-15, 1.11678688e-07, 2.17813908e-06,\n",
       "        9.95471716e-01, 4.52601491e-03],\n",
       "       [3.93316615e-15, 3.71792788e-15, 6.22759808e-06, 1.30865752e-04,\n",
       "        9.98885691e-01, 9.77314776e-04],\n",
       "       [4.12002030e-12, 4.58415944e-12, 7.81210314e-04, 4.87627834e-02,\n",
       "        9.36333776e-01, 1.41222561e-02],\n",
       "       [1.90270070e-15, 2.02230302e-15, 6.72686440e-07, 3.08390509e-06,\n",
       "        9.99940872e-01, 5.53609716e-05],\n",
       "       [6.71988576e-10, 7.80401077e-10, 2.75876489e-03, 9.80412543e-01,\n",
       "        1.38630541e-02, 2.96559813e-03],\n",
       "       [8.82861492e-11, 9.91343188e-11, 1.34244759e-03, 4.64351177e-01,\n",
       "        1.68549284e-01, 3.65757048e-01],\n",
       "       [7.99299591e-15, 1.03678823e-14, 4.77757069e-08, 6.74537951e-05,\n",
       "        9.99853253e-01, 7.92923165e-05],\n",
       "       [3.43220291e-15, 3.81948967e-15, 9.26162829e-06, 3.55267512e-05,\n",
       "        9.99922156e-01, 3.30694129e-05],\n",
       "       [4.89344401e-15, 5.80032280e-15, 4.98022871e-07, 4.15867862e-06,\n",
       "        7.94650674e-01, 2.05344692e-01],\n",
       "       [8.55923297e-13, 1.08305173e-12, 3.29885825e-06, 8.87877401e-03,\n",
       "        1.58516467e-01, 8.32601488e-01],\n",
       "       [6.08265540e-15, 7.79983344e-15, 2.24813874e-08, 4.45237929e-05,\n",
       "        9.99948978e-01, 6.46336002e-06],\n",
       "       [7.67639684e-12, 8.41339585e-12, 5.60838357e-03, 7.77638495e-01,\n",
       "        1.55082583e-01, 6.16705939e-02]], dtype=float32)"
      ]
     },
     "execution_count": 31,
     "metadata": {},
     "output_type": "execute_result"
    }
   ],
   "source": [
    "test.predict(X_test)"
   ]
  },
  {
   "cell_type": "code",
   "execution_count": 39,
   "id": "60b18232",
   "metadata": {},
   "outputs": [
    {
     "data": {
      "text/plain": [
       "'[<keras.layers.convolutional.Conv2D object at 0x7efde94df340>, <keras.layers.pooling.MaxPooling2D object at 0x7efde94dfb50>, <keras.layers.convolutional.Conv2D object at 0x7efdef32dd60>, <keras.layers.pooling.MaxPooling2D object at 0x7efdef32d1c0>, <keras.layers.core.Flatten object at 0x7efde94891c0>, <keras.layers.core.Dropout object at 0x7efde9489790>, <keras.layers.core.Dense object at 0x7efde9489910>]'"
      ]
     },
     "execution_count": 39,
     "metadata": {},
     "output_type": "execute_result"
    }
   ],
   "source": [
    "str(model.layers)"
   ]
  },
  {
   "cell_type": "code",
   "execution_count": null,
   "id": "1a14f8ed",
   "metadata": {},
   "outputs": [],
   "source": []
  }
 ],
 "metadata": {
  "kernelspec": {
   "display_name": "Python 3 (ipykernel)",
   "language": "python",
   "name": "python3"
  },
  "language_info": {
   "codemirror_mode": {
    "name": "ipython",
    "version": 3
   },
   "file_extension": ".py",
   "mimetype": "text/x-python",
   "name": "python",
   "nbconvert_exporter": "python",
   "pygments_lexer": "ipython3",
   "version": "3.9.6"
  }
 },
 "nbformat": 4,
 "nbformat_minor": 5
}
